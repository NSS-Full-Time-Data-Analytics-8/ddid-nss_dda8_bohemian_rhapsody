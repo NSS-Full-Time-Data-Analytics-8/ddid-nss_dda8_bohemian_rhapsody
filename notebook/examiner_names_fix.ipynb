{
 "cells": [
  {
   "cell_type": "code",
   "execution_count": 2,
   "id": "77f3aa84",
   "metadata": {},
   "outputs": [
    {
     "ename": "ModuleNotFoundError",
     "evalue": "No module named 'fuzzywuzzy'",
     "output_type": "error",
     "traceback": [
      "\u001b[1;31m---------------------------------------------------------------------------\u001b[0m",
      "\u001b[1;31mModuleNotFoundError\u001b[0m                       Traceback (most recent call last)",
      "\u001b[1;32m~\\AppData\\Local\\Temp\\ipykernel_18224\\1574816869.py\u001b[0m in \u001b[0;36m<module>\u001b[1;34m\u001b[0m\n\u001b[0;32m      1\u001b[0m \u001b[1;32mimport\u001b[0m \u001b[0mpandas\u001b[0m \u001b[1;32mas\u001b[0m \u001b[0mpd\u001b[0m\u001b[1;33m\u001b[0m\u001b[1;33m\u001b[0m\u001b[0m\n\u001b[0;32m      2\u001b[0m \u001b[1;32mimport\u001b[0m \u001b[0mregex\u001b[0m \u001b[1;32mas\u001b[0m \u001b[0mre\u001b[0m\u001b[1;33m\u001b[0m\u001b[1;33m\u001b[0m\u001b[0m\n\u001b[1;32m----> 3\u001b[1;33m \u001b[1;32mimport\u001b[0m \u001b[0mfuzzywuzzy\u001b[0m\u001b[1;33m\u001b[0m\u001b[1;33m\u001b[0m\u001b[0m\n\u001b[0m\u001b[0;32m      4\u001b[0m \u001b[1;32mfrom\u001b[0m \u001b[0mfuzzywuzzy\u001b[0m \u001b[1;32mimport\u001b[0m \u001b[0mfuzz\u001b[0m\u001b[1;33m\u001b[0m\u001b[1;33m\u001b[0m\u001b[0m\n",
      "\u001b[1;31mModuleNotFoundError\u001b[0m: No module named 'fuzzywuzzy'"
     ]
    }
   ],
   "source": [
    "import pandas as pd\n",
    "import regex as re\n",
    "import fuzzywuzzy\n",
    "from fuzzywuzzy import fuzz"
   ]
  },
  {
   "cell_type": "code",
   "execution_count": null,
   "id": "46ec37f5",
   "metadata": {},
   "outputs": [],
   "source": [
    "df = pd.read_excel('../data/AEPSi_data.xlsx', 2)\n",
    "df"
   ]
  },
  {
   "cell_type": "code",
   "execution_count": null,
   "id": "f3ad6bca",
   "metadata": {},
   "outputs": [],
   "source": [
    "#Start just by taking a look at the column\n",
    "df.Examiner"
   ]
  },
  {
   "cell_type": "code",
   "execution_count": null,
   "id": "8d43857c",
   "metadata": {},
   "outputs": [],
   "source": [
    "#Look at the value counts for the column\n",
    "df.Examiner.value_counts()"
   ]
  },
  {
   "cell_type": "code",
   "execution_count": null,
   "id": "c9e1816e",
   "metadata": {},
   "outputs": [],
   "source": [
    "#First, an easy adjustment, stripping any leading or lagging spaces\n",
    "df.Examiner = df.Examiner.str.strip()\n",
    "df.Examiner"
   ]
  },
  {
   "cell_type": "code",
   "execution_count": null,
   "id": "d6fd6f4d",
   "metadata": {},
   "outputs": [],
   "source": [
    "#We do see a decent reduction in the number of unique values (as indicated here by the number of lengths)\n",
    "df.Examiner.value_counts()"
   ]
  },
  {
   "cell_type": "code",
   "execution_count": null,
   "id": "ca34e7ea",
   "metadata": {},
   "outputs": [],
   "source": [
    "#Now we'll look for any cells that contain a semicolon and keep only what is to the left of the semicolon\n",
    "df.Examiner = df.Examiner.str.extract('(^[^;]+)')\n",
    "df.Examiner"
   ]
  },
  {
   "cell_type": "code",
   "execution_count": null,
   "id": "609303da",
   "metadata": {},
   "outputs": [],
   "source": [
    "#This leads to another reduction in unique values\n",
    "df.Examiner.value_counts()"
   ]
  },
  {
   "cell_type": "code",
   "execution_count": null,
   "id": "d382763b",
   "metadata": {},
   "outputs": [],
   "source": [
    "#Making the value counts into a dataframe\n",
    "ex_counts = df.Examiner.value_counts().to_frame()\n",
    "#Keeping only those entries that occur more than once\n",
    "ex_counts = ex_counts.loc[ex_counts.Examiner > 1]\n",
    "#Turning that into a list\n",
    "Examiner_list =ex_counts.index.to_list()\n",
    "Examiner_list"
   ]
  },
  {
   "cell_type": "code",
   "execution_count": null,
   "id": "74a03f69",
   "metadata": {},
   "outputs": [],
   "source": [
    "#creating a column to indicate whether or not a name is changed (Y=Yes, N=No)\n",
    "df['changed'] = 'N'\n",
    "\n",
    "#Building a for loop that compares the entries in the examiner column to the entries in our list\n",
    "for name in Examiner_list:\n",
    "    \n",
    "        for ind, row in df.iterrows():\n",
    "            #For any row that indicates it has NOT be changed, the following happens\n",
    "            if row.changed == 'N':\n",
    "                #Create a ration of how similar the entry in the dataframe is to the entry in the list\n",
    "                ratio = fuzz.token_set_ratio(name, row.Examiner)\n",
    "                #For any entries that have a ratio of 100, meaning they match exactly...\n",
    "                if ratio == 100:\n",
    "                    #Go ahead and mark the 'changed' column as Y so that row won't be looked at again\n",
    "                    df.loc[ind, 'changed'] = 'Y'\n",
    "                #For  any entries that are very similar (ratio > 88) but not exactly the same...\n",
    "                if ((ratio > 88)  & (ratio < 100)):\n",
    "                    #go ahead and change the entry in the dataframe to match the entry in the list\n",
    "                    df.loc[ind, 'Examiner'] = name\n",
    "                    #and mark the 'changed' column as Y so that row won't be evaluated again\n",
    "                    df.loc[ind, 'changed'] = 'Y'\n",
    "#This loop continues until all rows are changed or have no match that creates a ratio greater than 88            \n",
    "        "
   ]
  },
  {
   "cell_type": "code",
   "execution_count": null,
   "id": "8a92ea06",
   "metadata": {},
   "outputs": [],
   "source": [
    "#Take a look at how many unique values remain\n",
    "df.Examiner.nunique()"
   ]
  },
  {
   "cell_type": "code",
   "execution_count": null,
   "id": "6c50d3cd",
   "metadata": {},
   "outputs": [],
   "source": [
    "#look at how many rows were marked Y and N after running our loop\n",
    "df['changed'].value_counts()"
   ]
  },
  {
   "cell_type": "code",
   "execution_count": null,
   "id": "d5114a46",
   "metadata": {},
   "outputs": [],
   "source": [
    "#look at the updated value counts for Examiner names\n",
    "df.Examiner.value_counts()"
   ]
  },
  {
   "cell_type": "code",
   "execution_count": null,
   "id": "b91d3241",
   "metadata": {},
   "outputs": [],
   "source": [
    "#Get rid of our 'changed' column now that it's served its purpose\n",
    "df = df.drop(columns = 'changed')"
   ]
  },
  {
   "cell_type": "code",
   "execution_count": null,
   "id": "496b77bd",
   "metadata": {},
   "outputs": [],
   "source": [
    "#save the cleaned up df to a csv\n",
    "df.to_csv('../data/cleaned_AEPS.csv', index = False)"
   ]
  },
  {
   "cell_type": "code",
   "execution_count": null,
   "id": "550ea844",
   "metadata": {},
   "outputs": [],
   "source": [
    "#read in the new csv to check it, note the warning giving you a heads up about some columns with mixed datatypes\n",
    "new = pd.read_csv('../data/cleaned_AEPS.csv')"
   ]
  },
  {
   "cell_type": "code",
   "execution_count": null,
   "id": "a7c377e3",
   "metadata": {},
   "outputs": [],
   "source": [
    "new"
   ]
  },
  {
   "cell_type": "code",
   "execution_count": null,
   "id": "80b1c2e1",
   "metadata": {},
   "outputs": [],
   "source": []
  }
 ],
 "metadata": {
  "kernelspec": {
   "display_name": "Python 3 (ipykernel)",
   "language": "python",
   "name": "python3"
  },
  "language_info": {
   "codemirror_mode": {
    "name": "ipython",
    "version": 3
   },
   "file_extension": ".py",
   "mimetype": "text/x-python",
   "name": "python",
   "nbconvert_exporter": "python",
   "pygments_lexer": "ipython3",
   "version": "3.9.13"
  }
 },
 "nbformat": 4,
 "nbformat_minor": 5
}
